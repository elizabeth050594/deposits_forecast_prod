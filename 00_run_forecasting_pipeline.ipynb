{
 "cells": [
  {
   "cell_type": "code",
   "execution_count": 0,
   "metadata": {
    "application/vnd.databricks.v1+cell": {
     "cellMetadata": {
      "byteLimit": 2048000,
      "rowLimit": 10000
     },
     "inputWidgets": {},
     "nuid": "8691d7c0-ae7e-4b1b-9987-4c2d3da9a847",
     "showTitle": false,
     "tableResultSettingsMap": {},
     "title": ""
    }
   },
   "outputs": [],
   "source": [
    "%pip install -r requirements.txt\n",
    "%restart_python"
   ]
  },
  {
   "cell_type": "code",
   "execution_count": 0,
   "metadata": {
    "application/vnd.databricks.v1+cell": {
     "cellMetadata": {
      "byteLimit": 2048000,
      "rowLimit": 10000
     },
     "inputWidgets": {},
     "nuid": "413c07ae-b3b9-44cc-8897-cf9fbb35036f",
     "showTitle": false,
     "tableResultSettingsMap": {},
     "title": ""
    }
   },
   "outputs": [],
   "source": [
    "%restart_python"
   ]
  },
  {
   "cell_type": "code",
   "execution_count": 0,
   "metadata": {
    "application/vnd.databricks.v1+cell": {
     "cellMetadata": {
      "byteLimit": 2048000,
      "rowLimit": 10000
     },
     "inputWidgets": {},
     "nuid": "d7909984-ada2-493c-a29e-4fde2b356d1b",
     "showTitle": false,
     "tableResultSettingsMap": {},
     "title": ""
    }
   },
   "outputs": [],
   "source": [
    "from src.ingest_data import load_and_prepare_data\n",
    "from src.forecast import train_and_forecast\n",
    "import json\n",
    "import pandas as pd\n",
    "from pathlib import Path\n",
    "import mlflow\n",
    "import random\n",
    "import numpy as np\n",
    "\n",
    "\n",
    "# Set seeds\n",
    "random.seed(42)\n",
    "np.random.seed(42)"
   ]
  },
  {
   "cell_type": "code",
   "execution_count": 0,
   "metadata": {
    "application/vnd.databricks.v1+cell": {
     "cellMetadata": {
      "byteLimit": 2048000,
      "rowLimit": 10000
     },
     "inputWidgets": {},
     "nuid": "ec6dec18-2a4a-43ad-9ab1-4c8fe8f1110e",
     "showTitle": false,
     "tableResultSettingsMap": {},
     "title": ""
    }
   },
   "outputs": [],
   "source": [
    "CONFIG_PATH = Path(\"configs/\")\n",
    "\n",
    "def run_all_models_forecast():\n",
    "    all_forecasts = []\n",
    "    for config_file in CONFIG_PATH.glob(\"*.json\"):\n",
    "        with open(config_file) as f:\n",
    "            params = json.load(f)\n",
    "\n",
    "        model_name = params[\"model_name\"]\n",
    "        target = params['target']\n",
    "        horizon = params['horizon']\n",
    "\n",
    "        print(f\"Running pipeline for: {model_name}\")\n",
    "\n",
    "        # Load and prepare data\n",
    "        df = load_and_prepare_data(\n",
    "            path=\"data/processed/combined_total_household_data_interpolate.csv\",\n",
    "            target=target,\n",
    "            params=params\n",
    "        )\n",
    "\n",
    "        # Train the model and forecast\n",
    "        forecast_df, model = train_and_forecast(df, h=horizon, param_dict=params, target = target)\n",
    "        \n",
    "        # Label the forecast by the intended horizon (not the underlying `fh`)\n",
    "        forecast_df[\"horizon\"] = horizon\n",
    "        all_forecasts.append(forecast_df)\n",
    "\n",
    "    # Combine all forecasts\n",
    "    final_forecast_df = (\n",
    "    pd.concat(all_forecasts)\n",
    "    .sort_index()\n",
    "    .reset_index()\n",
    "    .rename(columns={\"index\": \"date\"}))\n",
    "\n",
    "    # Save the forecast outputs\n",
    "    path_dir = Path(\"outputs/forecasts\")\n",
    "    path_dir.mkdir(parents=True, exist_ok=True)\n",
    "    filepath = path_dir / \"final_forecast_df.csv\"\n",
    "    final_forecast_df.to_csv(filepath, index = False)\n",
    "\n",
    "    return final_forecast_df\n"
   ]
  },
  {
   "cell_type": "code",
   "execution_count": 0,
   "metadata": {
    "application/vnd.databricks.v1+cell": {
     "cellMetadata": {
      "byteLimit": 2048000,
      "rowLimit": 10000
     },
     "inputWidgets": {},
     "nuid": "95ebf4be-9e7f-440e-a465-635c146f85f1",
     "showTitle": false,
     "tableResultSettingsMap": {},
     "title": ""
    }
   },
   "outputs": [],
   "source": [
    "final_forecast_df = run_all_models_forecast()\n",
    "final_forecast_df"
   ]
  },
  {
   "cell_type": "code",
   "execution_count": 0,
   "metadata": {
    "application/vnd.databricks.v1+cell": {
     "cellMetadata": {},
     "inputWidgets": {},
     "nuid": "93e7dd4e-07de-4c22-a19e-f63e6b7521ad",
     "showTitle": false,
     "tableResultSettingsMap": {},
     "title": ""
    }
   },
   "outputs": [],
   "source": []
  }
 ],
 "metadata": {
  "application/vnd.databricks.v1+notebook": {
   "computePreferences": null,
   "dashboards": [],
   "environmentMetadata": {
    "base_environment": "",
    "environment_version": "4"
   },
   "inputWidgetPreferences": null,
   "language": "python",
   "notebookMetadata": {
    "pythonIndentUnit": 4
   },
   "notebookName": "00_run_forecasting_pipeline",
   "widgets": {}
  },
  "language_info": {
   "name": "python"
  }
 },
 "nbformat": 4,
 "nbformat_minor": 0
}
