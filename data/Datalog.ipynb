{
 "cells": [
  {
   "cell_type": "markdown",
   "metadata": {
    "application/vnd.databricks.v1+cell": {
     "cellMetadata": {},
     "inputWidgets": {},
     "nuid": "56b0dc7f-821b-4a38-8f18-db586ba52ca8",
     "showTitle": false,
     "tableResultSettingsMap": {},
     "title": ""
    }
   },
   "source": [
    "\n",
    "Significant Datasets\n",
    "* total_household_deposits_rbnz.csv (monthly) [RBNZ]: \n",
    "    - Deposits Registered With Banks (household - all Dec 1998-July 2025, NZDm) \n",
    "    - https://www.rbnz.govt.nz/statistics/series/registered-banks/banks-liabilities-deposits-by-sector\n",
    "* household_loans_rbnz.csv (previously quarterly + now monthly) [RBNZ]:\n",
    "    - Household loans (housing loans + consumer loans with registered banks, Dec 1998 - Jun2025, NZDm)\n",
    "    - Dec1998 - Dec2016: M1.1 Consumer loans with registered banks + M2.1 Housing loans with registered banks from the Household Balance Sheet data (link below).\n",
    "    - Jan2017 - Jun 2025: A5 Housholds Loans + B3 Household Abroad Loans (non-resident) from Bank Assets - Loans by Sector data (link below).\n",
    "    * Note: Due to the discontinuation of the Household Balance Sheet from RBNZ in 2021, this new combined variable for household loans is derived from two datasets. The figures have been checked for consistency, and this approach ensures the continuity of this key variable. Since the Bank Assets data is published monthly, it is used where available. \n",
    "\n",
    "    - Household balance sheet (Dec1998-Jun2021, quarterly): https://www.rbnz.govt.nz/statistics/series/households/household-balance-sheet\n",
    "    - Bank Assets - Loans by Sector (Dec2016-Jun2025, monthly): https://www.rbnz.govt.nz/statistics/series/registered-banks/banks-assets-loans-by-sector \n",
    "* prices_rbnz.csv (quarterly, extracted from Dec 1998) [RBNZ]:\n",
    "    - CPI indices (CPI, Food, Housing and Household Utilities, CPI excl. Petrol, House Price Index, Producers price Index inputs & outputs)\n",
    "    - https://www.rbnz.govt.nz/statistics/series/economic-indicators/prices\n",
    "* card_trans_value_stats.csv (monthly, from Oct 2002) [Stats NZ]:\n",
    "    - Amount spent by industry (NZDm) - consumables\n",
    "    - Amount spent by type (NZDm) - credit\n",
    "    - https://infoshare.stats.govt.nz/SelectVariables.aspx?pxID=065178f5-a0c5-41c7-bb71-fd7bfbddc6eb\n",
    "* larbour_market_rbnz.csv (quarterly, extracted from 1998 Q4) [RBNZ]:\n",
    "    - total labour force (thousands,15-64), labour force participate rate (%, total labour force / working pop), working age population (thousands, 15-64), labour cost index (index)\n",
    "    - https://www.rbnz.govt.nz/statistics/series/economic-indicators/labour-market\n",
    "* average_weekly_earnings_stats.csv (quarterly, extracted from 1998 Q4) [Stats NZ]:\n",
    "    - total average weekly earnings (ordinary+overtime, NZD)\n",
    "    - https://infoshare.stats.govt.nz/SelectVariables.aspx?pxID=7b5d7874-7b75-4421-9639-fb626356da46\n",
    "* gdp_rbnz.csv (quarterly, extracted from Dec 1998) [RBNZ]:\n",
    "    - Expenditure-based gdp (NZDm)\n",
    "    - https://www.rbnz.govt.nz/statistics/series/economic-indicators/gross-domestic-product\n",
    "* search_trends_google.csv (monthly, Jan 2004) [Google Search Trend]:\n",
    "    - key words: home_loan_rates\n"
   ]
  },
  {
   "cell_type": "markdown",
   "metadata": {
    "application/vnd.databricks.v1+cell": {
     "cellMetadata": {},
     "inputWidgets": {},
     "nuid": "79cdd158-85b5-4014-83c5-7f23e272ac4f",
     "showTitle": false,
     "tableResultSettingsMap": {},
     "title": ""
    }
   },
   "source": [
    "## Total Household Deposits Datalog\n",
    "| Data | Start | End | Type | Variable Name | File Name |Notes|\n",
    "|---|---|---|---|---|---|---|\n",
    "|Household Deposits (NZDm)|Dec 1998|Aug 2025|Monthly|_household_deposits_|total_household_deposits_monthly_data.csv|\n",
    "|Household Loans |Dec 1998|Aug 2025|Monthly|_household_loans_|\"\"|\n",
    "|Home loan rate Google search (relative %) |Jan 2004|Aug 2025|Monthly|_google_home_loan_rate_search_|\"\"|\n",
    "|Card Consumables (NZDm)|Oct 2002|Aug 2025|Monthly|_card_consumables_|\"\"|\n",
    "|Card Credit (NZDm)|Oct 2002|Aug 2025|Monthly|_card_credit_|\"\"|\n",
    "|Unemployment Rate (%)|Mar 1994|Jun 2025|Quarterly|_unemployment_rate_|total_household_deposits_quarterly_data.csv|\n",
    "|Employed Labour Force (thousands)|Mar 1994|Jun 2025|Quarterly|_employed_labour_force_|\"\"|\n",
    "|Labour Force Participation Rate (%)|Mar 1994|Jun 2025|Quarterly|_labour_force_participation_rate_|\"\"|\n",
    "|Labour Cost Index (LCI)|Mar 1994|Jun 2025|Quarterly|_labour_cost_index_|\"\"|\n",
    "|CPI (CPI)|Dec 1998|Jun 2025|Quarterly|_cpi_|\"\"|*also included cpi for q/q% & y/y%\n",
    "|CPI Housing Utilities |Dec 1998|Jun 2025|Quarterly|_cpi_housing_household_|\"\"|\n",
    "|Expenditure Based GDP (NZDm)|Dec 1998|Mar 2025|Quarterly|_production_based_gdp_|\"\"|*also included gdp for q/q% & y/y%\n",
    "\n",
    "\n",
    "_*The following are archived due to lack of future / forecast data_\n",
    "\n",
    "Working Age Population, Average Weekly Earnings, Working Age Population, CPI Food, CPI excl. Petrol, HPI, PPI inputs, PPI Outputs\n",
    "\n"
   ]
  },
  {
   "cell_type": "code",
   "execution_count": 0,
   "metadata": {
    "application/vnd.databricks.v1+cell": {
     "cellMetadata": {},
     "inputWidgets": {},
     "nuid": "bca9ecd4-9280-4f45-9a95-2f78520f303e",
     "showTitle": false,
     "tableResultSettingsMap": {},
     "title": ""
    }
   },
   "outputs": [],
   "source": []
  }
 ],
 "metadata": {
  "application/vnd.databricks.v1+notebook": {
   "computePreferences": null,
   "dashboards": [],
   "environmentMetadata": {
    "base_environment": "",
    "environment_version": "3"
   },
   "inputWidgetPreferences": null,
   "language": "python",
   "notebookMetadata": {
    "pythonIndentUnit": 4
   },
   "notebookName": "Datalog",
   "widgets": {}
  },
  "language_info": {
   "name": "python"
  }
 },
 "nbformat": 4,
 "nbformat_minor": 0
}
