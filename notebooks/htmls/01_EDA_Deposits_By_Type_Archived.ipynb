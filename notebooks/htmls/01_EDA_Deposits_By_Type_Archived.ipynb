{
 "cells": [
  {
   "cell_type": "code",
   "execution_count": 0,
   "metadata": {
    "application/vnd.databricks.v1+cell": {
     "cellMetadata": {
      "byteLimit": 2048000,
      "rowLimit": 10000
     },
     "inputWidgets": {},
     "nuid": "a7165b8d-6022-4cd5-b4ed-fefaffbef434",
     "showTitle": false,
     "tableResultSettingsMap": {},
     "title": ""
    }
   },
   "outputs": [],
   "source": [
    "%pip install -r requirements.txt"
   ]
  },
  {
   "cell_type": "code",
   "execution_count": 0,
   "metadata": {
    "application/vnd.databricks.v1+cell": {
     "cellMetadata": {
      "byteLimit": 2048000,
      "rowLimit": 10000
     },
     "inputWidgets": {},
     "nuid": "d2a07b2d-19c7-448f-ab06-d7b9af7a0d00",
     "showTitle": false,
     "tableResultSettingsMap": {},
     "title": ""
    }
   },
   "outputs": [],
   "source": [
    "import pandas as pd\n",
    "import seaborn as sns\n",
    "import matplotlib.pyplot as plt\n",
    "from plotly.offline import plot\n",
    "from plotly.subplots import make_subplots\n",
    "from statsmodels.tsa.seasonal import STL\n",
    "import plotly.graph_objects as go\n",
    "from functools import reduce \n",
    "import glob"
   ]
  },
  {
   "cell_type": "code",
   "execution_count": 0,
   "metadata": {
    "application/vnd.databricks.v1+cell": {
     "cellMetadata": {
      "byteLimit": 2048000,
      "rowLimit": 10000
     },
     "inputWidgets": {},
     "nuid": "d607ef80-c4e3-4ff1-8a53-a7e332669412",
     "showTitle": false,
     "tableResultSettingsMap": {},
     "title": ""
    }
   },
   "outputs": [],
   "source": [
    "filepath = 'data/processed/interpolated/combined_df.csv'\n",
    "df_total = pd.read_csv(filepath)\n",
    "\n",
    "type_filepath = 'data/archived/processed/combined_df.csv'\n",
    "df_type = pd.read_csv(type_filepath)\n",
    "df_type = df_type[['date','transaction_balances','savings_balances','term_deposit_balances']]\n",
    "\n",
    "df = df_type.merge(df_total, on='date', how = 'left')\n",
    "df = df.dropna()\n",
    "df"
   ]
  },
  {
   "cell_type": "markdown",
   "metadata": {
    "application/vnd.databricks.v1+cell": {
     "cellMetadata": {},
     "inputWidgets": {},
     "nuid": "55fe1389-1641-4d98-8ba9-5dd40933efc8",
     "showTitle": false,
     "tableResultSettingsMap": {},
     "title": ""
    }
   },
   "source": [
    "## Correlation "
   ]
  },
  {
   "cell_type": "code",
   "execution_count": 0,
   "metadata": {
    "application/vnd.databricks.v1+cell": {
     "cellMetadata": {
      "byteLimit": 2048000,
      "rowLimit": 10000
     },
     "inputWidgets": {},
     "nuid": "a7e52fd8-5107-46d5-a431-3a7b75d3970f",
     "showTitle": false,
     "tableResultSettingsMap": {},
     "title": ""
    }
   },
   "outputs": [],
   "source": [
    "def decompose_stl(df, date_col, target_col, predictor_cols, period=12):\n",
    "    df = df.sort_values(date_col).copy()\n",
    "    df[date_col] = pd.to_datetime(df[date_col])\n",
    "    df.set_index(date_col, inplace=True)\n",
    "\n",
    "    all_cols = [target_col] + predictor_cols\n",
    "\n",
    "    trend_data = {}\n",
    "    seasonal_data = {}\n",
    "    residual_data = {}\n",
    "\n",
    "    for col in all_cols:\n",
    "        series = pd.to_numeric(df[col], errors='coerce')\n",
    "        stl = STL(series, period=period).fit()\n",
    "\n",
    "        trend_data[col] = stl.trend\n",
    "        seasonal_data[col] = stl.seasonal\n",
    "        residual_data[col] = stl.resid\n",
    "\n",
    "    # Create three separate DataFrames each for the STL decompositions\n",
    "    trend_df = pd.DataFrame(trend_data, index=df.index)\n",
    "    seasonal_df = pd.DataFrame(seasonal_data, index=df.index)\n",
    "    residual_df = pd.DataFrame(residual_data, index=df.index)\n",
    "\n",
    "    return trend_df, seasonal_df, residual_df\n",
    "\n",
    "def compute_df_correlation(df, date_col = 'date'):\n",
    "    return df.corr()\n",
    "\n",
    "def plot_target_correlation(df, target_col, type = 'trend'):\n",
    "    df = df[[target_col]].copy()\n",
    "    df[f'abs_{type}_correlation'] = df[target_col].abs()\n",
    "    df.sort_values(f'abs_{type}_correlation', ascending=False, inplace=True)\n",
    "    # plot heatmap\n",
    "    plt.figure(figsize=(10, 15)) \n",
    "    sns.heatmap(df[[f'abs_{type}_correlation']], annot=True, cmap='coolwarm', vmin = 0, vmax = 1)\n",
    "    plt.title(f'Correlation with Household Deposit ({type})')\n",
    "\n",
    "import matplotlib.pyplot as plt\n",
    "\n",
    "def plot_multi_plots(df, date_col, target_col, predictor_cols, lags=None, ncols=3, figsize_per_plot=(6, 3)):\n",
    "    nplots = len(predictor_cols)\n",
    "    nrows = (nplots + ncols - 1) // ncols\n",
    "\n",
    "    fig, axes = plt.subplots(nrows=nrows, ncols=ncols, figsize=(figsize_per_plot[0]*ncols, figsize_per_plot[1]*nrows), sharex=True)\n",
    "    axes = axes.flatten() if nplots > 1 else [axes]\n",
    "\n",
    "    # Default: no lagging\n",
    "    if lags is None:\n",
    "        lags = [None] * nplots\n",
    "    elif len(lags) != nplots:\n",
    "        raise ValueError(\"Length of 'lags' must match length of 'predictor_cols'\")\n",
    "\n",
    "    for i, (pred, lag) in enumerate(zip(predictor_cols, lags)):\n",
    "        ax1 = axes[i]\n",
    "        ax2 = ax1.twinx()  # create a second y-axis\n",
    "\n",
    "        # Plot target on primary y-axis\n",
    "        ax1.plot(df[date_col], df[target_col], color='blue', label=target_col)\n",
    "        ax1.set_ylabel(target_col, color='blue')\n",
    "        ax1.tick_params(axis='y', colors='blue')\n",
    "\n",
    "        # Plot original predictor on secondary y-axis\n",
    "        ax2.plot(df[date_col], df[pred], color='red', label=pred)\n",
    "\n",
    "        # If lag is provided, plot lagged version as dotted line\n",
    "        if lag is not None:\n",
    "            lagged = df[pred].shift(lag)\n",
    "            ax2.plot(df[date_col], lagged, color='red', linestyle='dotted', label=f\"{pred} (lag {lag})\")\n",
    "\n",
    "        ax2.set_ylabel(pred, color='red')\n",
    "        ax2.tick_params(axis='y', colors='red')\n",
    "\n",
    "        ax1.set_title(f\"{target_col} vs {pred}\" + (f\" (lag {lag})\" if lag else \"\"))\n",
    "        ax1.grid(True)\n",
    "\n",
    "        # Combine legends from both axes\n",
    "        lines_1, labels_1 = ax1.get_legend_handles_labels()\n",
    "        lines_2, labels_2 = ax2.get_legend_handles_labels()\n",
    "        ax1.legend(lines_1 + lines_2, labels_1 + labels_2, loc='upper left')\n",
    "\n",
    "    # Hide any unused subplots\n",
    "    for j in range(i+1, len(axes)):\n",
    "        axes[j].set_visible(False)\n",
    "\n",
    "    plt.tight_layout()\n",
    "    plt.show()\n",
    "\n",
    "\n",
    "## Granger Causality Test\n",
    "from statsmodels.tsa.stattools import grangercausalitytests\n",
    "\n",
    "def granger_causality_tests(df, target_col, predictor_cols, maxlag=12):\n",
    "    rows = []\n",
    "    for pred in predictor_cols:\n",
    "        test_result = grangercausalitytests(df[[target_col, pred]], maxlag=maxlag, verbose=False)\n",
    "        # Extract all p-values for the predictor across lags\n",
    "        lag_pvals = {lag: test_result[lag][0]['ssr_ftest'][1] for lag in test_result}\n",
    "        \n",
    "        # Find lags with significant p-values\n",
    "        significant_lags = [lag for lag, pval in lag_pvals.items() if pval <= 0.05]\n",
    "        if significant_lags:\n",
    "            # Find minimum p-value and corresponding lag\n",
    "            min_lag = min(significant_lags, key=lambda lag: lag_pvals[lag])\n",
    "            min_pval = lag_pvals[min_lag]\n",
    "            rows.append({\n",
    "                'predictor': pred,\n",
    "                'min_pvalue_lag': min_lag,\n",
    "                'min_pvalue': min_pval,\n",
    "                'significant_lags': significant_lags\n",
    "            })\n",
    "    \n",
    "    results_df = pd.DataFrame(rows).sort_values('min_pvalue').reset_index(drop=True)\n",
    "    return results_df\n",
    "\n",
    "## Correlations With Lags\n",
    "def lagged_correlations(df, target_col, predictor_cols, maxlag=12):\n",
    "    results = []\n",
    "    target = df[target_col]\n",
    "    \n",
    "    for pred in predictor_cols:\n",
    "        lag_corrs = {lag: target.corr(df[pred].shift(lag)) for lag in range(maxlag + 1)}\n",
    "        sig_lags = [lag for lag, c in lag_corrs.items() if pd.notna(c)]\n",
    "        \n",
    "        if sig_lags:\n",
    "            best_lag = max(sig_lags, key=lambda lag: abs(lag_corrs[lag]))\n",
    "            results.append({\n",
    "                'predictor': pred,\n",
    "                'max_corr_lag': best_lag,\n",
    "                'max_abs_corr': abs(lag_corrs[best_lag]),\n",
    "                'max_raw_corr': lag_corrs[best_lag],\n",
    "                'significant_lags': sig_lags\n",
    "            })\n",
    "        else:\n",
    "            results.append({'predictor': pred, 'max_corr_lag': None, 'max_abs_corr': None, 'max_raw_corr':None,'significant_lags': []})\n",
    "    \n",
    "    return pd.DataFrame(results).sort_values(by='max_abs_corr', key=lambda x: x.abs(), ascending=False).reset_index(drop=True)\n",
    "\n",
    "def prepare_component(lagcorr_df, granger_df, component):\n",
    "    df = pd.merge(\n",
    "        lagcorr_df, granger_df,\n",
    "        on='predictor', how='outer',\n",
    "        suffixes=('_corr', '_granger')\n",
    "    )\n",
    "    df.columns = ['predictor'] + [\n",
    "        f\"{component}_{col}\" if col != 'predictor' else col\n",
    "        for col in df.columns[1:]\n",
    "    ]\n",
    "    return df\n",
    "\n",
    "\n",
    "def plot_single_series(df, date_col, target_col, predictor_col, lag=0, invert=False):\n",
    "    fig, ax1 = plt.subplots(figsize=(8, 4))\n",
    "    ax2 = ax1.twinx()\n",
    "\n",
    "    # Plot target\n",
    "    ax1.plot(df[date_col], df[target_col], color='blue', label=target_col)\n",
    "    ax1.set_ylabel(target_col, color='blue')\n",
    "    ax1.tick_params(axis='y', colors='blue')\n",
    "\n",
    "    # Prepare predictor\n",
    "    pred_series = df[predictor_col].shift(lag)\n",
    "    label = predictor_col\n",
    "\n",
    "    if lag:\n",
    "        label += f\" (lag {lag})\"\n",
    "    if invert:\n",
    "        pred_series = -pred_series\n",
    "        label += \" (inverted)\"\n",
    "\n",
    "    # Plot predictor\n",
    "    ax2.plot(df[date_col], pred_series, color='red', linestyle='dotted', label=label)\n",
    "    ax2.set_ylabel(predictor_col, color='red')\n",
    "    ax2.tick_params(axis='y', colors='red')\n",
    "\n",
    "    ax1.set_title(f\"{target_col} vs {predictor_col}\")\n",
    "    ax1.grid(True)\n",
    "\n",
    "    # Legends\n",
    "    lines1, labels1 = ax1.get_legend_handles_labels()\n",
    "    lines2, labels2 = ax2.get_legend_handles_labels()\n",
    "    ax1.legend(lines1 + lines2, labels1 + labels2, loc='upper left')\n",
    "\n",
    "    plt.tight_layout()\n",
    "    plt.show()\n",
    "\n"
   ]
  },
  {
   "cell_type": "markdown",
   "metadata": {
    "application/vnd.databricks.v1+cell": {
     "cellMetadata": {},
     "inputWidgets": {},
     "nuid": "e10edc67-3822-4953-ad22-fd4497b21fcc",
     "showTitle": false,
     "tableResultSettingsMap": {},
     "title": ""
    }
   },
   "source": [
    "## Term Deposit Balances"
   ]
  },
  {
   "cell_type": "code",
   "execution_count": 0,
   "metadata": {
    "application/vnd.databricks.v1+cell": {
     "cellMetadata": {
      "byteLimit": 2048000,
      "rowLimit": 10000
     },
     "inputWidgets": {},
     "nuid": "dc8db93f-4a54-454a-87ab-1508f070ab2b",
     "showTitle": false,
     "tableResultSettingsMap": {},
     "title": ""
    }
   },
   "outputs": [],
   "source": [
    "# decompose STL\n",
    "target_col = 'term_deposit_balances'\n",
    "date_col = 'date'\n",
    "predictor_cols = [col for col in df.columns if col not in ['date', target_col]]\n",
    "tdf, sdf, rdf = decompose_stl(df, date_col, target_col, predictor_cols, period=12)"
   ]
  },
  {
   "cell_type": "code",
   "execution_count": 0,
   "metadata": {
    "application/vnd.databricks.v1+cell": {
     "cellMetadata": {
      "byteLimit": 2048000,
      "rowLimit": 10000
     },
     "inputWidgets": {},
     "nuid": "6a615743-758f-4694-8cf7-a8de0d97e2ef",
     "showTitle": false,
     "tableResultSettingsMap": {},
     "title": ""
    }
   },
   "outputs": [],
   "source": [
    "# test on stl decomposition - trend\n",
    "trend_granger = granger_causality_tests(tdf, target_col, predictor_cols)\n",
    "trend_lagcorr = lagged_correlations(tdf, target_col, predictor_cols)\n",
    "\n",
    "# test on stl decomposition - seasonality\n",
    "seasonal_granger = granger_causality_tests(sdf, target_col, predictor_cols)\n",
    "seasonal_lagcorr = lagged_correlations(sdf, target_col, predictor_cols)\n",
    "\n",
    "# test on stl decomposition - residual\n",
    "residual_granger = granger_causality_tests(rdf, target_col, predictor_cols)\n",
    "residual_lagcorr = lagged_correlations(rdf, target_col, predictor_cols)"
   ]
  },
  {
   "cell_type": "code",
   "execution_count": 0,
   "metadata": {
    "application/vnd.databricks.v1+cell": {
     "cellMetadata": {
      "byteLimit": 2048000,
      "rowLimit": 10000
     },
     "inputWidgets": {},
     "nuid": "2e1e0c14-c04e-4eeb-a1d8-b9be8399763f",
     "showTitle": false,
     "tableResultSettingsMap": {},
     "title": ""
    }
   },
   "outputs": [],
   "source": [
    "## Plot lagged correlations\n",
    "plot_target_correlation(trend_lagcorr.set_index('predictor'), 'max_abs_corr', 'trend')\n",
    "plot_target_correlation(seasonal_lagcorr.set_index('predictor'), 'max_abs_corr', 'seasonal')"
   ]
  },
  {
   "cell_type": "code",
   "execution_count": 0,
   "metadata": {
    "application/vnd.databricks.v1+cell": {
     "cellMetadata": {
      "byteLimit": 2048000,
      "rowLimit": 10000
     },
     "inputWidgets": {},
     "nuid": "b4e787ba-1a25-443f-96bd-d829552e7b89",
     "showTitle": false,
     "tableResultSettingsMap": {},
     "title": ""
    }
   },
   "outputs": [],
   "source": [
    "# Prepare each component\n",
    "trend_df = prepare_component(trend_lagcorr, trend_granger, 'trend')\n",
    "seasonal_df = prepare_component(seasonal_lagcorr, seasonal_granger, 'seasonal')\n",
    "residual_df = prepare_component(residual_lagcorr, residual_granger, 'residual')\n",
    "\n",
    "# Merge all components on 'predictor'\n",
    "pivoted_result = reduce(\n",
    "    lambda left, right: pd.merge(left, right, on='predictor', how='outer'),\n",
    "    [trend_df, seasonal_df, residual_df]\n",
    ").sort_values('predictor').reset_index(drop=True)\n",
    "\n",
    "top_predictors = pivoted_result[['predictor','trend_max_abs_corr','trend_max_raw_corr','trend_min_pvalue','trend_max_corr_lag','trend_min_pvalue_lag','seasonal_max_abs_corr','seasonal_min_pvalue','seasonal_max_corr_lag','seasonal_min_pvalue_lag']].sort_values(by='trend_min_pvalue', ascending=True).dropna()\n",
    "\n",
    "signifnicant_corr_granger = top_predictors[top_predictors.trend_max_abs_corr>0.9]\n",
    "signifnicant_corr_granger"
   ]
  },
  {
   "cell_type": "code",
   "execution_count": 0,
   "metadata": {
    "application/vnd.databricks.v1+cell": {
     "cellMetadata": {
      "byteLimit": 2048000,
      "rowLimit": 10000
     },
     "inputWidgets": {},
     "nuid": "6caca3bc-eff8-4769-b847-902ac211a358",
     "showTitle": false,
     "tableResultSettingsMap": {},
     "title": ""
    }
   },
   "outputs": [],
   "source": [
    "plot_multi_plots(tdf.reset_index(), 'date', target_col, signifnicant_corr_granger.predictor, lags=signifnicant_corr_granger.trend_max_corr_lag, ncols=3, figsize_per_plot=(6, 3))"
   ]
  },
  {
   "cell_type": "markdown",
   "metadata": {
    "application/vnd.databricks.v1+cell": {
     "cellMetadata": {},
     "inputWidgets": {},
     "nuid": "1fa5f662-8d7c-4a42-bd8f-e41353da41d8",
     "showTitle": false,
     "tableResultSettingsMap": {},
     "title": ""
    }
   },
   "source": [
    "## Transactional Balances"
   ]
  },
  {
   "cell_type": "code",
   "execution_count": 0,
   "metadata": {
    "application/vnd.databricks.v1+cell": {
     "cellMetadata": {
      "byteLimit": 2048000,
      "rowLimit": 10000
     },
     "inputWidgets": {},
     "nuid": "54d719e0-8c3c-4669-ac35-79facd563b9b",
     "showTitle": false,
     "tableResultSettingsMap": {},
     "title": ""
    }
   },
   "outputs": [],
   "source": [
    "# decompose STL\n",
    "target_col = 'transaction_balances'\n",
    "date_col = 'date'\n",
    "predictor_cols = [col for col in df.columns if col not in ['date', target_col,'savings_balances']]\n",
    "tdf, sdf, rdf = decompose_stl(df, date_col, target_col, predictor_cols, period=12)"
   ]
  },
  {
   "cell_type": "code",
   "execution_count": 0,
   "metadata": {
    "application/vnd.databricks.v1+cell": {
     "cellMetadata": {
      "byteLimit": 2048000,
      "rowLimit": 10000
     },
     "inputWidgets": {},
     "nuid": "cabbc0a3-58b3-4bce-8983-6e4696b07822",
     "showTitle": false,
     "tableResultSettingsMap": {},
     "title": ""
    }
   },
   "outputs": [],
   "source": [
    "# test on stl decomposition - trend\n",
    "trend_granger = granger_causality_tests(tdf, target_col, predictor_cols)\n",
    "trend_lagcorr = lagged_correlations(tdf, target_col, predictor_cols)\n",
    "\n",
    "# test on stl decomposition - seasonality\n",
    "seasonal_granger = granger_causality_tests(sdf, target_col, predictor_cols)\n",
    "seasonal_lagcorr = lagged_correlations(sdf, target_col, predictor_cols)\n",
    "\n",
    "# test on stl decomposition - residual\n",
    "residual_granger = granger_causality_tests(rdf, target_col, predictor_cols)\n",
    "residual_lagcorr = lagged_correlations(rdf, target_col, predictor_cols)"
   ]
  },
  {
   "cell_type": "code",
   "execution_count": 0,
   "metadata": {
    "application/vnd.databricks.v1+cell": {
     "cellMetadata": {
      "byteLimit": 2048000,
      "rowLimit": 10000
     },
     "inputWidgets": {},
     "nuid": "38a202f5-f272-4737-bda6-47dd24ab462e",
     "showTitle": false,
     "tableResultSettingsMap": {},
     "title": ""
    }
   },
   "outputs": [],
   "source": [
    "## Plot lagged correlations\n",
    "plot_target_correlation(trend_lagcorr.set_index('predictor'), 'max_abs_corr', 'trend')\n",
    "plot_target_correlation(seasonal_lagcorr.set_index('predictor'), 'max_abs_corr', 'seasonal')"
   ]
  },
  {
   "cell_type": "code",
   "execution_count": 0,
   "metadata": {
    "application/vnd.databricks.v1+cell": {
     "cellMetadata": {
      "byteLimit": 2048000,
      "rowLimit": 10000
     },
     "inputWidgets": {},
     "nuid": "2d1bc644-0f1d-42b6-b8aa-ffe2f8f47e3a",
     "showTitle": false,
     "tableResultSettingsMap": {},
     "title": ""
    }
   },
   "outputs": [],
   "source": [
    "# Prepare each component\n",
    "trend_df = prepare_component(trend_lagcorr, trend_granger, 'trend')\n",
    "seasonal_df = prepare_component(seasonal_lagcorr, seasonal_granger, 'seasonal')\n",
    "residual_df = prepare_component(residual_lagcorr, residual_granger, 'residual')\n",
    "\n",
    "# Merge all components on 'predictor'\n",
    "pivoted_result = reduce(\n",
    "    lambda left, right: pd.merge(left, right, on='predictor', how='outer'),\n",
    "    [trend_df, seasonal_df, residual_df]\n",
    ").sort_values('predictor').reset_index(drop=True)\n",
    "\n",
    "top_predictors = pivoted_result[['predictor','trend_max_abs_corr','trend_max_raw_corr','trend_min_pvalue','trend_max_corr_lag','trend_min_pvalue_lag','seasonal_max_abs_corr','seasonal_min_pvalue','seasonal_max_corr_lag','seasonal_min_pvalue_lag']].sort_values(by='trend_min_pvalue', ascending=True).dropna()\n",
    "\n",
    "signifnicant_corr_granger = top_predictors[top_predictors.trend_max_abs_corr>=0.8]\n",
    "signifnicant_corr_granger"
   ]
  },
  {
   "cell_type": "code",
   "execution_count": 0,
   "metadata": {
    "application/vnd.databricks.v1+cell": {
     "cellMetadata": {
      "byteLimit": 2048000,
      "rowLimit": 10000
     },
     "inputWidgets": {},
     "nuid": "912a03ea-fb01-4735-a6a7-d6e8d760eaef",
     "showTitle": false,
     "tableResultSettingsMap": {},
     "title": ""
    }
   },
   "outputs": [],
   "source": [
    "plot_multi_plots(tdf.reset_index(), 'date', target_col, signifnicant_corr_granger.predictor, lags=signifnicant_corr_granger.trend_max_corr_lag, ncols=3, figsize_per_plot=(6, 3))"
   ]
  },
  {
   "cell_type": "code",
   "execution_count": 0,
   "metadata": {
    "application/vnd.databricks.v1+cell": {
     "cellMetadata": {
      "byteLimit": 2048000,
      "rowLimit": 10000
     },
     "inputWidgets": {},
     "nuid": "4cb2428c-231e-4c91-8c21-8118317c9061",
     "showTitle": false,
     "tableResultSettingsMap": {},
     "title": ""
    }
   },
   "outputs": [],
   "source": [
    "for i,r in signifnicant_corr_granger.iterrows():\n",
    "    if r['trend_max_raw_corr'] <0:\n",
    "        predictor = r['predictor']\n",
    "        plot_single_series(tdf.reset_index(), 'date', target_col, predictor, lag = r['trend_max_corr_lag'], invert = True)"
   ]
  },
  {
   "cell_type": "markdown",
   "metadata": {
    "application/vnd.databricks.v1+cell": {
     "cellMetadata": {},
     "inputWidgets": {},
     "nuid": "50f66c18-f064-4057-8984-b733b6b3bb8b",
     "showTitle": false,
     "tableResultSettingsMap": {},
     "title": ""
    }
   },
   "source": [
    "## Saving Balances"
   ]
  },
  {
   "cell_type": "code",
   "execution_count": 0,
   "metadata": {
    "application/vnd.databricks.v1+cell": {
     "cellMetadata": {
      "byteLimit": 2048000,
      "rowLimit": 10000
     },
     "inputWidgets": {},
     "nuid": "f2b4738b-9834-4a10-9a32-07b7300095ac",
     "showTitle": false,
     "tableResultSettingsMap": {},
     "title": ""
    }
   },
   "outputs": [],
   "source": [
    "# decompose STL\n",
    "target_col = 'savings_balances'\n",
    "date_col = 'date'\n",
    "predictor_cols = [col for col in df.columns if col not in ['date', target_col,'transaction_balances']]\n",
    "tdf, sdf, rdf = decompose_stl(df, date_col, target_col, predictor_cols, period=12)"
   ]
  },
  {
   "cell_type": "code",
   "execution_count": 0,
   "metadata": {
    "application/vnd.databricks.v1+cell": {
     "cellMetadata": {
      "byteLimit": 2048000,
      "rowLimit": 10000
     },
     "inputWidgets": {},
     "nuid": "6eeb9e51-2140-4afc-85b6-127d529a4b72",
     "showTitle": false,
     "tableResultSettingsMap": {},
     "title": ""
    }
   },
   "outputs": [],
   "source": [
    "# test on stl decomposition - trend\n",
    "trend_granger = granger_causality_tests(tdf, target_col, predictor_cols)\n",
    "trend_lagcorr = lagged_correlations(tdf, target_col, predictor_cols)\n",
    "\n",
    "# test on stl decomposition - seasonality\n",
    "seasonal_granger = granger_causality_tests(sdf, target_col, predictor_cols)\n",
    "seasonal_lagcorr = lagged_correlations(sdf, target_col, predictor_cols)\n",
    "\n",
    "# test on stl decomposition - residual\n",
    "residual_granger = granger_causality_tests(rdf, target_col, predictor_cols)\n",
    "residual_lagcorr = lagged_correlations(rdf, target_col, predictor_cols)"
   ]
  },
  {
   "cell_type": "code",
   "execution_count": 0,
   "metadata": {
    "application/vnd.databricks.v1+cell": {
     "cellMetadata": {
      "byteLimit": 2048000,
      "rowLimit": 10000
     },
     "inputWidgets": {},
     "nuid": "273c266a-ea22-4e41-ba9f-5b81a8f2cb59",
     "showTitle": false,
     "tableResultSettingsMap": {},
     "title": ""
    }
   },
   "outputs": [],
   "source": [
    "## Plot lagged correlations\n",
    "plot_target_correlation(trend_lagcorr.set_index('predictor'), 'max_abs_corr', 'trend')\n",
    "plot_target_correlation(seasonal_lagcorr.set_index('predictor'), 'max_abs_corr', 'seasonal')"
   ]
  },
  {
   "cell_type": "code",
   "execution_count": 0,
   "metadata": {
    "application/vnd.databricks.v1+cell": {
     "cellMetadata": {
      "byteLimit": 2048000,
      "rowLimit": 10000
     },
     "inputWidgets": {},
     "nuid": "1dc6f8d0-3717-4bcb-9906-a3ad68a27ec3",
     "showTitle": false,
     "tableResultSettingsMap": {},
     "title": ""
    }
   },
   "outputs": [],
   "source": [
    "# Prepare each component\n",
    "trend_df = prepare_component(trend_lagcorr, trend_granger, 'trend')\n",
    "seasonal_df = prepare_component(seasonal_lagcorr, seasonal_granger, 'seasonal')\n",
    "residual_df = prepare_component(residual_lagcorr, residual_granger, 'residual')\n",
    "\n",
    "# Merge all components on 'predictor'\n",
    "pivoted_result = reduce(\n",
    "    lambda left, right: pd.merge(left, right, on='predictor', how='outer'),\n",
    "    [trend_df, seasonal_df, residual_df]\n",
    ").sort_values('predictor').reset_index(drop=True)\n",
    "\n",
    "top_predictors = pivoted_result[['predictor','trend_max_abs_corr','trend_max_raw_corr','trend_min_pvalue','trend_max_corr_lag','trend_min_pvalue_lag','seasonal_max_abs_corr','seasonal_min_pvalue','seasonal_max_corr_lag','seasonal_min_pvalue_lag']].sort_values(by='trend_min_pvalue', ascending=True).dropna()\n",
    "\n",
    "signifnicant_corr_granger = top_predictors[top_predictors.trend_max_abs_corr>=0.9]\n",
    "signifnicant_corr_granger"
   ]
  },
  {
   "cell_type": "code",
   "execution_count": 0,
   "metadata": {
    "application/vnd.databricks.v1+cell": {
     "cellMetadata": {
      "byteLimit": 2048000,
      "rowLimit": 10000
     },
     "inputWidgets": {},
     "nuid": "26c4f6a4-d776-478d-a457-53fbbd6bc79d",
     "showTitle": false,
     "tableResultSettingsMap": {},
     "title": ""
    }
   },
   "outputs": [],
   "source": [
    "plot_multi_plots(tdf.reset_index(), 'date', target_col, signifnicant_corr_granger.predictor, lags=signifnicant_corr_granger.trend_max_corr_lag, ncols=3, figsize_per_plot=(6, 3))"
   ]
  },
  {
   "cell_type": "code",
   "execution_count": 0,
   "metadata": {
    "application/vnd.databricks.v1+cell": {
     "cellMetadata": {
      "byteLimit": 2048000,
      "rowLimit": 10000
     },
     "inputWidgets": {},
     "nuid": "4237ed0f-f2b5-4610-a9d1-0898a78a275b",
     "showTitle": false,
     "tableResultSettingsMap": {},
     "title": ""
    }
   },
   "outputs": [],
   "source": [
    "for i,r in signifnicant_corr_granger.iterrows():\n",
    "    if r['trend_max_raw_corr'] <0:\n",
    "        predictor = r['predictor']\n",
    "        plot_single_series(tdf.reset_index(), 'date', target_col, predictor, lag = r['trend_max_corr_lag'], invert = True)"
   ]
  }
 ],
 "metadata": {
  "application/vnd.databricks.v1+notebook": {
   "computePreferences": null,
   "dashboards": [],
   "environmentMetadata": {
    "base_environment": "",
    "environment_version": "2"
   },
   "inputWidgetPreferences": null,
   "language": "python",
   "notebookMetadata": {
    "pythonIndentUnit": 4
   },
   "notebookName": "01_EDA_Deposits_By_Type_Archived",
   "widgets": {}
  },
  "language_info": {
   "name": "python"
  }
 },
 "nbformat": 4,
 "nbformat_minor": 0
}
