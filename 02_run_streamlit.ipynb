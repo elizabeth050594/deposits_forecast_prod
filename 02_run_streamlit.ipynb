{
 "cells": [
  {
   "cell_type": "code",
   "execution_count": 0,
   "metadata": {
    "application/vnd.databricks.v1+cell": {
     "cellMetadata": {
      "byteLimit": 2048000,
      "rowLimit": 10000
     },
     "inputWidgets": {},
     "nuid": "1c31d4dd-bd1e-46e9-ab26-7a8b9c05c136",
     "showTitle": false,
     "tableResultSettingsMap": {},
     "title": ""
    }
   },
   "outputs": [],
   "source": [
    "%pip install -r streamlit/requirements.txt\n",
    "%restart_python"
   ]
  },
  {
   "cell_type": "code",
   "execution_count": 0,
   "metadata": {
    "application/vnd.databricks.v1+cell": {
     "cellMetadata": {
      "byteLimit": 2048000,
      "rowLimit": 10000
     },
     "inputWidgets": {},
     "nuid": "fc12c3cd-b307-43cf-acc7-69a0f8ac6577",
     "showTitle": false,
     "tableResultSettingsMap": {},
     "title": ""
    }
   },
   "outputs": [
    {
     "name": "stdout",
     "output_type": "stream",
     "text": [
      "\u001b[0m\n",
      "\u001b[34m\u001b[1m  You can now view your Streamlit app in your browser.\u001b[0m\n",
      "\u001b[0m\n",
      "\u001b[34m  Local URL: \u001b[0m\u001b[1mhttp://localhost:8501\u001b[0m\n",
      "\u001b[34m  Network URL: \u001b[0m\u001b[1mhttp://192.168.68.53:8501\u001b[0m\n",
      "\u001b[0m\n",
      "\u001b[34m\u001b[1m  For better performance, install the Watchdog module:\u001b[0m\n",
      "\n",
      "  $ xcode-select --install\n",
      "  $ pip install watchdog\n",
      "            \u001b[0m\n",
      "/Users/elizabeth/Documents/Masters/2025Sem2/ASBProject/deposits_forecast_prod/streamlit/Dashboard.py:122: SyntaxWarning: invalid escape sequence '\\$'\n",
      "  \"\"\"\n",
      "/Users/elizabeth/Documents/Masters/2025Sem2/ASBProject/deposits_forecast_prod/streamlit/Dashboard.py:122: SyntaxWarning: invalid escape sequence '\\$'\n",
      "  \"\"\"\n",
      "/Users/elizabeth/Documents/Masters/2025Sem2/ASBProject/deposits_forecast_prod/streamlit/Dashboard.py:122: SyntaxWarning: invalid escape sequence '\\$'\n",
      "  \"\"\"\n",
      "/Users/elizabeth/Documents/Masters/2025Sem2/ASBProject/deposits_forecast_prod/streamlit/pages/1_Explore_Data.py:29: UserWarning:\n",
      "\n",
      "Could not infer format, so each element will be parsed individually, falling back to `dateutil`. To ensure parsing is consistent and as-expected, please specify a format.\n",
      "\n",
      "/Users/elizabeth/Documents/Masters/2025Sem2/ASBProject/deposits_forecast_prod/streamlit/pages/1_Explore_Data.py:29: UserWarning:\n",
      "\n",
      "Could not infer format, so each element will be parsed individually, falling back to `dateutil`. To ensure parsing is consistent and as-expected, please specify a format.\n",
      "\n",
      "/Users/elizabeth/Documents/Masters/2025Sem2/ASBProject/deposits_forecast_prod/streamlit/Dashboard.py:122: SyntaxWarning:\n",
      "\n",
      "invalid escape sequence '\\$'\n",
      "\n",
      "/Users/elizabeth/Documents/Masters/2025Sem2/ASBProject/deposits_forecast_prod/streamlit/Dashboard.py:122: SyntaxWarning:\n",
      "\n",
      "invalid escape sequence '\\$'\n",
      "\n",
      "/Users/elizabeth/Documents/Masters/2025Sem2/ASBProject/deposits_forecast_prod/streamlit/Dashboard.py:122: SyntaxWarning:\n",
      "\n",
      "invalid escape sequence '\\$'\n",
      "\n",
      "/Users/elizabeth/Documents/Masters/2025Sem2/ASBProject/deposits_forecast_prod/streamlit/pages/1_Explore_Data.py:29: UserWarning:\n",
      "\n",
      "Could not infer format, so each element will be parsed individually, falling back to `dateutil`. To ensure parsing is consistent and as-expected, please specify a format.\n",
      "\n",
      "/Users/elizabeth/Documents/Masters/2025Sem2/ASBProject/deposits_forecast_prod/streamlit/pages/1_Explore_Data.py:29: UserWarning:\n",
      "\n",
      "Could not infer format, so each element will be parsed individually, falling back to `dateutil`. To ensure parsing is consistent and as-expected, please specify a format.\n",
      "\n"
     ]
    }
   ],
   "source": [
    "!streamlit run streamlit/Dashboard.py"
   ]
  },
  {
   "cell_type": "code",
   "execution_count": 0,
   "metadata": {
    "application/vnd.databricks.v1+cell": {
     "cellMetadata": {},
     "inputWidgets": {},
     "nuid": "988c123a-8f7b-403d-8347-8fe30ae0f24f",
     "showTitle": false,
     "tableResultSettingsMap": {},
     "title": ""
    }
   },
   "outputs": [],
   "source": []
  }
 ],
 "metadata": {
  "application/vnd.databricks.v1+notebook": {
   "computePreferences": null,
   "dashboards": [],
   "environmentMetadata": {
    "base_environment": "",
    "environment_version": "4"
   },
   "inputWidgetPreferences": null,
   "language": "python",
   "notebookMetadata": {
    "pythonIndentUnit": 4
   },
   "notebookName": "02_run_streamlit",
   "widgets": {}
  },
  "kernelspec": {
   "display_name": "ox",
   "language": "python",
   "name": "python3"
  },
  "language_info": {
   "codemirror_mode": {
    "name": "ipython",
    "version": 3
   },
   "file_extension": ".py",
   "mimetype": "text/x-python",
   "name": "python",
   "nbconvert_exporter": "python",
   "pygments_lexer": "ipython3",
   "version": "3.12.1"
  }
 },
 "nbformat": 4,
 "nbformat_minor": 0
}
